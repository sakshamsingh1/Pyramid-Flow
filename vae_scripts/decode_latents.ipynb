{
 "cells": [
  {
   "cell_type": "code",
   "execution_count": null,
   "metadata": {
    "vscode": {
     "languageId": "plaintext"
    }
   },
   "outputs": [],
   "source": [
    "import os\n",
    "import torch\n",
    "import sys\n",
    "sys.path.append('/home/sxk230060/TI2AV/Pyramid-Flow/')\n",
    "from video_vae import CausalVideoVAELossWrapper\n",
    "from diffusers.utils import export_to_video\n",
    "from IPython.display import HTML"
   ]
  },
  {
   "cell_type": "code",
   "execution_count": null,
   "metadata": {
    "vscode": {
     "languageId": "plaintext"
    }
   },
   "outputs": [],
   "source": [
    "model_path = \"/mnt/sda1/saksham/TI2AV/pyramid/causal_video_vae\"   # The video-vae checkpoint dir\n",
    "model_dtype = 'bf16'\n",
    "\n",
    "device_id = 0\n",
    "torch.cuda.set_device(device_id)\n",
    "\n",
    "model = CausalVideoVAELossWrapper(\n",
    "    model_path,\n",
    "    model_dtype,\n",
    "    interpolate=False, \n",
    "    add_discriminator=False,\n",
    ")\n",
    "model = model.to(\"cuda\")\n",
    "\n",
    "if model_dtype == \"bf16\":\n",
    "    torch_dtype = torch.bfloat16 \n",
    "elif model_dtype == \"fp16\":\n",
    "    torch_dtype = torch.float16\n",
    "else:\n",
    "    torch_dtype = torch.float32\n",
    "\n",
    "def show_video(ori_path, rec_path, width=\"100%\"):\n",
    "    html = ''\n",
    "    if ori_path is not None:\n",
    "        html += f\"\"\"<video controls=\"\" name=\"media\" data-fullscreen-container=\"true\" width=\"{width}\">\n",
    "        <source src=\"{ori_path}\" type=\"video/mp4\">\n",
    "        </video>\n",
    "        \"\"\"\n",
    "    \n",
    "    html += f\"\"\"<video controls=\"\" name=\"media\" data-fullscreen-container=\"true\" width=\"{width}\">\n",
    "    <source src=\"{rec_path}\" type=\"video/mp4\">\n",
    "    </video>\n",
    "    \"\"\"\n",
    "    return HTML(html)"
   ]
  },
  {
   "cell_type": "code",
   "execution_count": null,
   "metadata": {
    "vscode": {
     "languageId": "plaintext"
    }
   },
   "outputs": [],
   "source": [
    "latent_dir = '/mnt/sda1/saksham/TI2AV/AVSync15/latent'\n",
    "files = os.listdir(latent_dir)"
   ]
  },
  {
   "cell_type": "code",
   "execution_count": null,
   "metadata": {
    "vscode": {
     "languageId": "plaintext"
    }
   },
   "outputs": [],
   "source": [
    "i = 20\n",
    "latent_path = os.path.join(latent_dir, files[i])\n",
    "latent = torch.load(latent_path).to(torch_dtype).to(\"cuda\")\n",
    "\n",
    "frame_number = 17   # x*8 + 1\n",
    "width = 256\n",
    "height = 256\n",
    "FPS = 8\n",
    "\n",
    "with torch.no_grad(), torch.cuda.amp.autocast(enabled=True, dtype=torch.bfloat16):\n",
    "    # latent = latent.unsqueeze(0)\n",
    "    rec_frames = model.decode_latent(latent.float(), window_size=2, temporal_chunk=True)\n",
    "\n",
    "export_to_video(rec_frames, \"./rec_video.mp4\", fps=FPS)\n",
    "show_video(None, \"./rec_video.mp4\", \"60%\")"
   ]
  }
 ],
 "metadata": {
  "language_info": {
   "name": "python"
  }
 },
 "nbformat": 4,
 "nbformat_minor": 2
}
